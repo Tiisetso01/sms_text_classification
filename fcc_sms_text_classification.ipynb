{
  "cells": [
    {
      "cell_type": "code",
      "execution_count": null,
      "metadata": {
        "id": "8RZOuS9LWQvv"
      },
      "outputs": [],
      "source": [
        "# import libraries\n",
        "try:\n",
        "  # %tensorflow_version only exists in Colab.\n",
        "  !pip install tf-nightly\n",
        "except Exception:\n",
        "  pass\n",
        "import tensorflow as tf\n",
        "import pandas as pd\n",
        "from tensorflow import keras\n",
        "!pip install tensorflow-datasets\n",
        "import tensorflow_datasets as tfds\n",
        "import numpy as np\n",
        "import matplotlib.pyplot as plt\n",
        "\n",
        "print(tf.__version__)"
      ]
    },
    {
      "cell_type": "code",
      "execution_count": null,
      "metadata": {
        "id": "lMHwYXHXCar3"
      },
      "outputs": [],
      "source": [
        "# get data files\n",
        "!wget https://cdn.freecodecamp.org/project-data/sms/train-data.tsv\n",
        "!wget https://cdn.freecodecamp.org/project-data/sms/valid-data.tsv\n",
        "\n",
        "train_file_path = \"train-data.tsv\"\n",
        "test_file_path = \"valid-data.tsv\""
      ]
    },
    {
      "cell_type": "code",
      "execution_count": null,
      "metadata": {
        "id": "g_h508FEClxO"
      },
      "outputs": [],
      "source": [
        "# Load training and test data\n",
        "# Read TSV files, specifying tab separator and no header\n",
        "train_df = pd.read_csv(train_file_path, sep='\\t', header=None, names=['label', 'message'])\n",
        "test_df = pd.read_csv(test_file_path, sep='\\t', header=None, names=['label', 'message'])\n",
        "\n",
        "# Encode labels: ham=0, spam=1\n",
        "train_df['label'] = train_df['label'].map({'ham': 0, 'spam': 1})\n",
        "test_df['label'] = test_df['label'].map({'ham': 0, 'spam': 1})\n",
        "\n",
        "# Extract features and labels\n",
        "train_messages = train_df['message'].values\n",
        "train_labels = train_df['label'].values\n",
        "test_messages = test_df['message'].values\n",
        "test_labels = test_df['label'].values\n",
        "\n",
        "# Tokenize text data\n",
        "# Create a TextVectorization layer to convert text to integer sequences\n",
        "vocab_size = 10000  # Maximum number of unique words\n",
        "max_length = 50     # Maximum length of each message\n",
        "vectorizer = tf.keras.layers.TextVectorization(\n",
        "    max_tokens=vocab_size,\n",
        "    output_mode='int',\n",
        "    output_sequence_length=max_length\n",
        ")\n",
        "\n",
        "# Adapt vectorizer to training messages to build vocabulary\n",
        "vectorizer.adapt(train_messages)\n",
        "\n",
        "# Build the neural network model\n",
        "model = keras.Sequential([\n",
        "    # Text vectorization layer to convert text to sequences\n",
        "    vectorizer,\n",
        "    # Embedding layer to learn word representations\n",
        "    keras.layers.Embedding(vocab_size, 16, mask_zero=True),\n",
        "    # Bidirectional LSTM to capture context in text\n",
        "    keras.layers.Bidirectional(keras.layers.LSTM(16)),\n",
        "    # Dense layer for classification\n",
        "    keras.layers.Dense(16, activation='relu'),\n",
        "    # Output layer: sigmoid for binary classification (0=ham, 1=spam)\n",
        "    keras.layers.Dense(1, activation='sigmoid')\n",
        "])"
      ]
    },
    {
      "cell_type": "code",
      "execution_count": null,
      "metadata": {
        "id": "zOMKywn4zReN"
      },
      "outputs": [],
      "source": [
        "# Compile the model\n",
        "model.compile(\n",
        "    optimizer='adam',  # Adam optimizer for efficient training\n",
        "    loss='binary_crossentropy',  # Loss for binary classification\n",
        "    metrics=['accuracy']  # Track accuracy during training\n",
        ")\n",
        "\n",
        "# Train the model\n",
        "model.fit(\n",
        "    train_messages,\n",
        "    train_labels,\n",
        "    epochs=10,  # Train for 10 epochs to converge\n",
        "    validation_data=(test_messages, test_labels),\n",
        "    batch_size=32,  # Batch size for training\n",
        "    verbose=0  # Suppress output for cleaner notebook\n",
        ")"
      ]
    },
    {
      "cell_type": "code",
      "execution_count": null,
      "metadata": {
        "id": "J9tD9yACG6M9"
      },
      "outputs": [],
      "source": [
        "# function to predict messages based on model\n",
        "# (should return list containing prediction and label, ex. [0.008318834938108921, 'ham'])\n",
        "\n",
        "# Function to predict messages based on model\n",
        "def predict_message(pred_text):\n",
        "    # Convert input text to a TensorFlow string tensor\n",
        "    pred_text = tf.convert_to_tensor([pred_text], dtype=tf.string)\n",
        "    # Get model prediction (probability of spam)\n",
        "    prediction = model.predict(pred_text, verbose=0)[0][0]\n",
        "    # Determine label based on probability threshold (0.5)\n",
        "    label = 'spam' if prediction >= 0.5 else 'ham'\n",
        "    # Return [probability, label]\n",
        "    return [float(prediction), label]\n",
        "\n",
        "pred_text = \"how are you doing today?\"\n",
        "\n",
        "prediction = predict_message(pred_text)\n",
        "print(prediction)"
      ]
    },
    {
      "cell_type": "code",
      "execution_count": null,
      "metadata": {
        "id": "Dxotov85SjsC"
      },
      "outputs": [],
      "source": [
        "# Run this cell to test your function and model. Do not modify contents.\n",
        "def test_predictions():\n",
        "  test_messages = [\"how are you doing today\",\n",
        "                   \"sale today! to stop texts call 98912460324\",\n",
        "                   \"i dont want to go. can we try it a different day? available sat\",\n",
        "                   \"our new mobile video service is live. just install on your phone to start watching.\",\n",
        "                   \"you have won £1000 cash! call to claim your prize.\",\n",
        "                   \"i'll bring it tomorrow. don't forget the milk.\",\n",
        "                   \"wow, is your arm alright. that happened to me one time too\"\n",
        "                  ]\n",
        "\n",
        "  test_answers = [\"ham\", \"spam\", \"ham\", \"spam\", \"spam\", \"ham\", \"ham\"]\n",
        "  passed = True\n",
        "\n",
        "  for msg, ans in zip(test_messages, test_answers):\n",
        "    prediction = predict_message(msg)\n",
        "    if prediction[1] != ans:\n",
        "      passed = False\n",
        "\n",
        "  if passed:\n",
        "    print(\"You passed the challenge. Great job!\")\n",
        "  else:\n",
        "    print(\"You haven't passed yet. Keep trying.\")\n",
        "\n",
        "test_predictions()\n"
      ]
    }
  ],
  "metadata": {
    "colab": {
      "name": "fcc_sms_text_classification.ipynb",
      "private_outputs": true,
      "provenance": [],
      "toc_visible": true
    },
    "kernelspec": {
      "display_name": "Python 3",
      "name": "python3"
    },
    "language_info": {}
  },
  "nbformat": 4,
  "nbformat_minor": 0
}